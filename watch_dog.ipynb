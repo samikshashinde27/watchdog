{
 "cells": [
  {
   "cell_type": "code",
   "execution_count": 1,
   "id": "56215cfd",
   "metadata": {},
   "outputs": [
    {
     "name": "stdout",
     "output_type": "stream",
     "text": [
      "Watching directory: C:/Users/samiksha-shinde/my_new_folder\n",
      "Message sent: Sent from your Twilio trial account - File created: C:/Users/samiksha-shinde/my_new_folder\\new\\New folder\n",
      "Message sent: Sent from your Twilio trial account - File modified: C:/Users/samiksha-shinde/my_new_folder\\new\n",
      "Message sent: Sent from your Twilio trial account - File moved: C:/Users/samiksha-shinde/my_new_folder\\new\\New folder -> C:/Users/samiksha-shinde/my_new_folder\\new\\ss\n",
      "Message sent: Sent from your Twilio trial account - File modified: C:/Users/samiksha-shinde/my_new_folder\\new\n",
      "Message sent: Sent from your Twilio trial account - File modified: C:/Users/samiksha-shinde/my_new_folder\\new\\ss\n"
     ]
    }
   ],
   "source": [
    "import time\n",
    "from watchdog.observers import Observer\n",
    "from watchdog.events import FileSystemEventHandler\n",
    "from twilio.rest import Client\n",
    "\n",
    "# Set up Twilio credentials (replace these with your own Twilio account details)\n",
    "TWILIO_SID = 'AC49b47d858501a9a5b2d03f01eb2bb4f2'\n",
    "TWILIO_AUTH_TOKEN = '73096b1a6180934ffc90e6ad3392ac59'\n",
    "TWILIO_PHONE_NUMBER = '+14243720494'  # The number you've registered with Twilio\n",
    "TO_PHONE_NUMBER = '+918169980582'  # Your mobile number to receive the message\n",
    "\n",
    "# Twilio Client\n",
    "client = Client(TWILIO_SID, TWILIO_AUTH_TOKEN)\n",
    "\n",
    "# Define the event handler for directory monitoring\n",
    "class MyHandler(FileSystemEventHandler):\n",
    "    \"\"\"Custom handler to define actions when events occur.\"\"\"\n",
    "    \n",
    "    def on_modified(self, event):\n",
    "        \"\"\"Trigger action when a file is modified.\"\"\"\n",
    "        self.send_sms(f'File modified: {event.src_path}')\n",
    "        \n",
    "    def on_created(self, event):\n",
    "        \"\"\"Trigger action when a new file is created.\"\"\"\n",
    "        self.send_sms(f'File created: {event.src_path}')\n",
    "        \n",
    "    def on_deleted(self, event):\n",
    "        \"\"\"Trigger action when a file is deleted.\"\"\"\n",
    "        self.send_sms(f'File deleted: {event.src_path}')\n",
    "        \n",
    "    def on_moved(self, event):\n",
    "        \"\"\"Trigger action when a file is moved or renamed.\"\"\"\n",
    "        self.send_sms(f'File moved: {event.src_path} -> {event.dest_path}')\n",
    "\n",
    "    def send_sms(self, message):\n",
    "        \"\"\"Send an SMS using Twilio\"\"\"\n",
    "        try:\n",
    "            message = client.messages.create(\n",
    "                body=message,\n",
    "                from_=TWILIO_PHONE_NUMBER,\n",
    "                to=TO_PHONE_NUMBER\n",
    "            )\n",
    "            print(f\"Message sent: {message.body}\")\n",
    "        except Exception as e:\n",
    "            print(f\"Failed to send message: {str(e)}\")\n",
    "\n",
    "def start_watch(directory):\n",
    "    \"\"\"Start watching the specified directory.\"\"\"\n",
    "    # Create an event handler\n",
    "    event_handler = MyHandler()\n",
    "    \n",
    "    # Create an observer and assign it the directory to monitor\n",
    "    observer = Observer()\n",
    "    observer.schedule(event_handler, path=directory, recursive=True)\n",
    "    \n",
    "    # Start the observer\n",
    "    observer.start()\n",
    "    \n",
    "    try:\n",
    "        while True:\n",
    "            time.sleep(1)  # Keep the script running to monitor the directory\n",
    "    except KeyboardInterrupt:\n",
    "        observer.stop()  # Stop the observer on keyboard interrupt\n",
    "    observer.join()  # Ensure the observer thread finishes before exiting\n",
    "\n",
    "if __name__ == \"__main__\":\n",
    "    directory_to_watch = \"C:/Users/samiksha-shinde/my_new_folder\"  # Replace with the directory you want to watch\n",
    "    print(f\"Watching directory: {directory_to_watch}\")\n",
    "    start_watch(directory_to_watch)\n"
   ]
  },
  {
   "cell_type": "code",
   "execution_count": null,
   "id": "7692918f",
   "metadata": {},
   "outputs": [],
   "source": []
  }
 ],
 "metadata": {
  "kernelspec": {
   "display_name": "Python 3 (ipykernel)",
   "language": "python",
   "name": "python3"
  },
  "language_info": {
   "codemirror_mode": {
    "name": "ipython",
    "version": 3
   },
   "file_extension": ".py",
   "mimetype": "text/x-python",
   "name": "python",
   "nbconvert_exporter": "python",
   "pygments_lexer": "ipython3",
   "version": "3.10.9"
  }
 },
 "nbformat": 4,
 "nbformat_minor": 5
}
